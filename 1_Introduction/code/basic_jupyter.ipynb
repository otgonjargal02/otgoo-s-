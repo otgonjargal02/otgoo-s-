{
 "cells": [
  {
   "cell_type": "markdown",
   "id": "eb0351bf",
   "metadata": {},
   "source": [
    "# https://www.youtube.com/watch?v=uVLzL5E-YBM&t=457s - Tutorial\n",
    "# Sample notebooks - https://github.com/ageron/handson-ml"
   ]
  },
  {
   "cell_type": "markdown",
   "id": "6cdf5153",
   "metadata": {},
   "source": [
    "hihihihi"
   ]
  },
  {
   "cell_type": "code",
   "execution_count": 1,
   "id": "52dfe76a",
   "metadata": {
    "scrolled": true
   },
   "outputs": [
    {
     "name": "stdout",
     "output_type": "stream",
     "text": [
      "15\n"
     ]
    }
   ],
   "source": [
    "bat = 15\n",
    "print(bat)"
   ]
  },
  {
   "cell_type": "code",
   "execution_count": 2,
   "id": "3e7e3a93",
   "metadata": {},
   "outputs": [
    {
     "data": {
      "text/plain": [
       "15"
      ]
     },
     "execution_count": 2,
     "metadata": {},
     "output_type": "execute_result"
    }
   ],
   "source": [
    "bat"
   ]
  },
  {
   "cell_type": "code",
   "execution_count": null,
   "id": "2136f1d7",
   "metadata": {},
   "outputs": [],
   "source": []
  },
  {
   "cell_type": "code",
   "execution_count": 3,
   "id": "82828430",
   "metadata": {},
   "outputs": [],
   "source": [
    "x = 5\n",
    "y = 15"
   ]
  },
  {
   "cell_type": "markdown",
   "id": "9c335dd6",
   "metadata": {},
   "source": [
    "The above variable assignation is just an example."
   ]
  },
  {
   "cell_type": "code",
   "execution_count": 4,
   "id": "d7811d34",
   "metadata": {
    "scrolled": true
   },
   "outputs": [
    {
     "name": "stdout",
     "output_type": "stream",
     "text": [
      "Enter a name: otgoo\n"
     ]
    }
   ],
   "source": [
    "# this is code\n",
    "name = input(\"Enter a name: \")\n"
   ]
  },
  {
   "cell_type": "code",
   "execution_count": 5,
   "id": "c4970500",
   "metadata": {},
   "outputs": [
    {
     "name": "stdout",
     "output_type": "stream",
     "text": [
      "otgoo\n"
     ]
    }
   ],
   "source": [
    "print(name)"
   ]
  },
  {
   "cell_type": "code",
   "execution_count": 6,
   "id": "1053de03",
   "metadata": {},
   "outputs": [
    {
     "name": "stdout",
     "output_type": "stream",
     "text": [
      "5\n",
      "15\n",
      "otgoo\n"
     ]
    }
   ],
   "source": [
    "# this is code \n",
    "print(x)\n",
    "print(y)\n",
    "print(name)"
   ]
  },
  {
   "cell_type": "markdown",
   "id": "14a82415",
   "metadata": {},
   "source": [
    "# Markdown examples\n",
    "\n",
    "simple text <br>\n",
    "simple <br>\n",
    "simple <br>\n",
    "\n",
    "## Parameter A\n",
    "### Subsection\n",
    "This is text, too.\n",
    "\n",
    "$\\alpha \\frac{5}{4}$\n"
   ]
  },
  {
   "cell_type": "code",
   "execution_count": 7,
   "id": "eec318be",
   "metadata": {},
   "outputs": [
    {
     "name": "stdout",
     "output_type": "stream",
     "text": [
      "Enter a name: otgoo\n"
     ]
    }
   ],
   "source": [
    "name = input(\"Enter a name: \")"
   ]
  },
  {
   "cell_type": "code",
   "execution_count": 8,
   "id": "98b092aa",
   "metadata": {},
   "outputs": [
    {
     "name": "stdout",
     "output_type": "stream",
     "text": [
      "otgoo\n"
     ]
    }
   ],
   "source": [
    "print(name)"
   ]
  },
  {
   "cell_type": "code",
   "execution_count": null,
   "id": "edb3a26d",
   "metadata": {},
   "outputs": [],
   "source": []
  }
 ],
 "metadata": {
  "kernelspec": {
   "display_name": "Python 3 (ipykernel)",
   "language": "python",
   "name": "python3"
  },
  "language_info": {
   "codemirror_mode": {
    "name": "ipython",
    "version": 3
   },
   "file_extension": ".py",
   "mimetype": "text/x-python",
   "name": "python",
   "nbconvert_exporter": "python",
   "pygments_lexer": "ipython3",
   "version": "3.11.5"
  },
  "vscode": {
   "interpreter": {
    "hash": "5cf5c64c8618ece2cdba7467e96fb545025c8173d5d08cf0b038ad90dc968c8d"
   }
  }
 },
 "nbformat": 4,
 "nbformat_minor": 5
}
