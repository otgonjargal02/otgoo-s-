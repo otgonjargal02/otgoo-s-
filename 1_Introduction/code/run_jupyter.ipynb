{
 "cells": [
  {
   "cell_type": "code",
   "execution_count": null,
   "id": "70f13e9c",
   "metadata": {},
   "outputs": [
    {
     "name": "stdout",
     "output_type": "stream",
     "text": [
      "Hello Py4Econ!\n"
     ]
    }
   ],
   "source": [
    "# https://www.youtube.com/watch?v=uVLzL5E-YBM&t=457s - Tutorial\n",
    "# Python Program to calculate the square root\n",
    "\n",
    "print(\"Hello Py4Econ!\")\n",
    "\n",
    "# To take the input from the user\n",
    "# num = float(input('Enter a number: '))\n",
    "num = input('Enter a number that you want a square root of: ')\n",
    "\n",
    "num_sqrt = num ** 0.5 \n",
    "\n",
    "print('The the square root of ' + str(num) + ' is ' + str(num_sqrt) + '.')\n"
   ]
  },
  {
   "cell_type": "markdown",
   "id": "e4b95d59",
   "metadata": {},
   "source": [
    "### The following code is an example"
   ]
  },
  {
   "cell_type": "code",
   "execution_count": 2,
   "id": "d5e25101",
   "metadata": {
    "scrolled": true
   },
   "outputs": [
    {
     "name": "stdout",
     "output_type": "stream",
     "text": [
      "15\n"
     ]
    }
   ],
   "source": [
    "a = 15\n",
    "print(a)"
   ]
  }
 ],
 "metadata": {
  "kernelspec": {
   "display_name": "base",
   "language": "python",
   "name": "python3"
  },
  "language_info": {
   "codemirror_mode": {
    "name": "ipython",
    "version": 3
   },
   "file_extension": ".py",
   "mimetype": "text/x-python",
   "name": "python",
   "nbconvert_exporter": "python",
   "pygments_lexer": "ipython3",
   "version": "3.8.8 (default, Apr 13 2021, 15:08:03) [MSC v.1916 64 bit (AMD64)]"
  },
  "vscode": {
   "interpreter": {
    "hash": "5cf5c64c8618ece2cdba7467e96fb545025c8173d5d08cf0b038ad90dc968c8d"
   }
  }
 },
 "nbformat": 4,
 "nbformat_minor": 5
}
