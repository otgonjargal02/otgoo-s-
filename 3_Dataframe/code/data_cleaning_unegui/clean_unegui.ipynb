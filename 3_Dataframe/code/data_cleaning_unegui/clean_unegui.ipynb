{
 "cells": [
  {
   "cell_type": "markdown",
   "id": "896a5ac6",
   "metadata": {},
   "source": [
    "# Tutorial on data cleaning. Unegui.mn example"
   ]
  },
  {
   "cell_type": "code",
   "execution_count": 2,
   "id": "35e1f335",
   "metadata": {},
   "outputs": [
    {
     "data": {
      "text/plain": [
       "'D:\\\\Documents\\\\python\\\\repo\\\\Introduction_Python\\\\3_Data_table\\\\code\\\\data_cleaning_unegui'"
      ]
     },
     "execution_count": 2,
     "metadata": {},
     "output_type": "execute_result"
    }
   ],
   "source": [
    "import pandas as pd\n",
    "import os\n",
    "os.getcwd()"
   ]
  },
  {
   "cell_type": "code",
   "execution_count": 79,
   "id": "84c78dd8",
   "metadata": {},
   "outputs": [],
   "source": [
    "# functions\n",
    "import re\n",
    "def get_district(x):\n",
    "    try:\n",
    "        x = re.findall('(Баянгол|Баянзүрх|Сүхбаатар|Сонгинохайрхан|Хан-Уул|Чингэлтэй|Налайх)', x)[0]\n",
    "    except:\n",
    "        pass\n",
    "    return x\n",
    "\n",
    "def extract_currency_value(x):\n",
    "    price = float(re.findall('(\\\\d+[\\\\.\\\\d]*)', x)[0])\n",
    "    if 'бум' in x and 'сая' not in x:\n",
    "        return price * 1e3\n",
    "    else:\n",
    "        return price \n",
    "def extract_numeric_area_values(x):\n",
    "    x = float(re.findall('(\\\\d+[\\\\.\\\\d]*)', x)[0])\n",
    "    return x"
   ]
  },
  {
   "cell_type": "code",
   "execution_count": null,
   "id": "ad5b6da7",
   "metadata": {},
   "outputs": [],
   "source": [
    "# df1 = pd.DataFrame({'id': [1,1,1,2,3,4,5],'value': [10,11,12,15,25,35,45]} )\n",
    "# df2 = pd.DataFrame({'id': [1,1,1,2,3,4,5],'value2': [13,14,15,15,25,35,45]} )\n",
    "# df1.merge(df2,on='id',how='left')"
   ]
  },
  {
   "cell_type": "code",
   "execution_count": 57,
   "id": "dcfa0996",
   "metadata": {},
   "outputs": [],
   "source": [
    "df_newa = pd.read_csv('../../data/data_unegui/sales_apartment_unegui_newer_a.csv')\n",
    "df_newd = pd.read_csv('../../data/data_unegui/sales_apartment_unegui_newer_district.csv')\n",
    "df_olda = pd.read_csv('../../data/data_unegui/sales_apartment_unegui_older_a.csv')\n",
    "df_oldd = pd.read_csv('../../data/data_unegui/sales_apartment_unegui_older_district.csv')"
   ]
  },
  {
   "cell_type": "code",
   "execution_count": 58,
   "id": "10fea144",
   "metadata": {},
   "outputs": [],
   "source": [
    "df_newa.drop_duplicates(subset=['id'],keep='first',inplace=True)\n",
    "df_newd.drop_duplicates(subset=['id'],keep='first',inplace=True)\n",
    "df_olda.drop_duplicates(subset=['id'],keep='first',inplace=True)\n",
    "df_oldd.drop_duplicates(subset=['id'],keep='first',inplace=True)"
   ]
  },
  {
   "cell_type": "code",
   "execution_count": 59,
   "id": "9ea8323c",
   "metadata": {},
   "outputs": [
    {
     "name": "stdout",
     "output_type": "stream",
     "text": [
      "7656 7656\n",
      "3534 3534\n"
     ]
    }
   ],
   "source": [
    "print(len(df_newa),len(df_newd))\n",
    "print(len(df_olda),len(df_oldd))"
   ]
  },
  {
   "cell_type": "code",
   "execution_count": 60,
   "id": "37a66baf",
   "metadata": {},
   "outputs": [],
   "source": [
    "df_new = df_newa.merge(df_newd,on=['id'],how='left')\n",
    "df_old = df_olda.merge(df_oldd,on=['id'],how='left')"
   ]
  },
  {
   "cell_type": "code",
   "execution_count": 61,
   "id": "39d8cb9b",
   "metadata": {},
   "outputs": [
    {
     "name": "stdout",
     "output_type": "stream",
     "text": [
      "7656 3534\n"
     ]
    }
   ],
   "source": [
    "print(len(df_new),len(df_old))"
   ]
  },
  {
   "cell_type": "code",
   "execution_count": 66,
   "id": "ec6d7960",
   "metadata": {},
   "outputs": [
    {
     "data": {
      "text/plain": [
       "array([ True,  True,  True,  True,  True,  True,  True,  True,  True,\n",
       "        True,  True,  True,  True,  True,  True,  True,  True,  True,\n",
       "        True,  True,  True,  True,  True,  True,  True,  True])"
      ]
     },
     "execution_count": 66,
     "metadata": {},
     "output_type": "execute_result"
    }
   ],
   "source": [
    "df_new.head()\n",
    "df_old.head()\n",
    "df_new.columns\n",
    "df_old.columns\n",
    "df_new.columns == df_old.columns"
   ]
  },
  {
   "cell_type": "code",
   "execution_count": 67,
   "id": "9911a3e9",
   "metadata": {},
   "outputs": [],
   "source": [
    "df = pd.concat([df_new,df_old])"
   ]
  },
  {
   "cell_type": "code",
   "execution_count": 76,
   "id": "739afe0b",
   "metadata": {},
   "outputs": [],
   "source": [
    "df[\"Дүүрэг\"] = df[\"loc\"].apply(get_district)"
   ]
  },
  {
   "cell_type": "code",
   "execution_count": 77,
   "id": "e0e4629f",
   "metadata": {},
   "outputs": [
    {
     "data": {
      "text/plain": [
       "0       Баянзүрх\n",
       "1        Хан-Уул\n",
       "2        Хан-Уул\n",
       "3        Хан-Уул\n",
       "4       Баянзүрх\n",
       "          ...   \n",
       "3529     Хан-Уул\n",
       "3530     Хан-Уул\n",
       "3531     Хан-Уул\n",
       "3532     Хан-Уул\n",
       "3533     Хан-Уул\n",
       "Name: Дүүрэг, Length: 11190, dtype: object"
      ]
     },
     "execution_count": 77,
     "metadata": {},
     "output_type": "execute_result"
    }
   ],
   "source": []
  },
  {
   "cell_type": "code",
   "execution_count": 80,
   "id": "8eea192b",
   "metadata": {},
   "outputs": [
    {
     "data": {
      "text/plain": [
       "Index(['Title', 'Price', 'Date', 'Time', 'id', 'phone', 'room', 'message',\n",
       "       'url', 'Шал:', 'Тагт:', 'Ашиглалтанд орсон он:', 'Гараж:', 'Цонх:',\n",
       "       'Барилгын давхар:', 'Хаалга:', 'Талбай:', 'Хэдэн давхарт:',\n",
       "       'Лизингээр авах боломж:', 'Цонхны тоо:', 'Барилгын явц:', 'Код:',\n",
       "       'Байршил:', 'location:', 'Unnamed: 0', 'loc', 'Дүүрэг'],\n",
       "      dtype='object')"
      ]
     },
     "execution_count": 80,
     "metadata": {},
     "output_type": "execute_result"
    }
   ],
   "source": [
    "df.columns"
   ]
  },
  {
   "cell_type": "code",
   "execution_count": 81,
   "id": "aa1d0fa4",
   "metadata": {},
   "outputs": [],
   "source": [
    "df[\"Нийт үнэ\"] = df[\"Price\"].apply(extract_currency_value)\n",
    "df[\"М2\"] = df[\"Талбай:\"].apply(extract_numeric_area_values)"
   ]
  },
  {
   "cell_type": "code",
   "execution_count": 83,
   "id": "b7f18791",
   "metadata": {},
   "outputs": [],
   "source": [
    "df['М2 үнэ']   = df['Нийт үнэ'].astype(float)\n",
    "mask = df['Нийт үнэ'].astype(float) >= 5 & ~df['М2'].astype(float).isnull() # no price_m2 higher than or equal to 12 mio at the momemt  \n",
    "df.loc[mask, 'М2 үнэ'] = df.loc[mask, 'Нийт үнэ'].astype(float) / df.loc[mask, 'М2'].astype(float)"
   ]
  },
  {
   "cell_type": "code",
   "execution_count": 84,
   "id": "90c992e1",
   "metadata": {},
   "outputs": [
    {
     "data": {
      "text/html": [
       "<div>\n",
       "<style scoped>\n",
       "    .dataframe tbody tr th:only-of-type {\n",
       "        vertical-align: middle;\n",
       "    }\n",
       "\n",
       "    .dataframe tbody tr th {\n",
       "        vertical-align: top;\n",
       "    }\n",
       "\n",
       "    .dataframe thead th {\n",
       "        text-align: right;\n",
       "    }\n",
       "</style>\n",
       "<table border=\"1\" class=\"dataframe\">\n",
       "  <thead>\n",
       "    <tr style=\"text-align: right;\">\n",
       "      <th></th>\n",
       "      <th>Title</th>\n",
       "      <th>Price</th>\n",
       "      <th>Date</th>\n",
       "      <th>Time</th>\n",
       "      <th>id</th>\n",
       "      <th>phone</th>\n",
       "      <th>room</th>\n",
       "      <th>message</th>\n",
       "      <th>url</th>\n",
       "      <th>Шал:</th>\n",
       "      <th>...</th>\n",
       "      <th>Барилгын явц:</th>\n",
       "      <th>Код:</th>\n",
       "      <th>Байршил:</th>\n",
       "      <th>location:</th>\n",
       "      <th>Unnamed: 0</th>\n",
       "      <th>loc</th>\n",
       "      <th>Дүүрэг</th>\n",
       "      <th>Нийт үнэ</th>\n",
       "      <th>М2</th>\n",
       "      <th>М2 үнэ</th>\n",
       "    </tr>\n",
       "  </thead>\n",
       "  <tbody>\n",
       "    <tr>\n",
       "      <th>0</th>\n",
       "      <td>Бзд 1-р хороо сансар, и-мартын хойно 4 өрөө ор...</td>\n",
       "      <td>300 сая ₮\\nүнэ тохирно</td>\n",
       "      <td>8/30/2023</td>\n",
       "      <td>18:42</td>\n",
       "      <td>7589853</td>\n",
       "      <td>8877-9095</td>\n",
       "      <td>4 өрөө</td>\n",
       "      <td>\\nБЗД 1-р хороо Сансар, И-мартын ард 4 өрөө ор...</td>\n",
       "      <td>https://www.unegui.mn/adv/7589853_bzd-1-r-khor...</td>\n",
       "      <td>Паркет</td>\n",
       "      <td>...</td>\n",
       "      <td>Ашиглалтад орсон</td>\n",
       "      <td>NaN</td>\n",
       "      <td>NaN</td>\n",
       "      <td>NaN</td>\n",
       "      <td>NaN</td>\n",
       "      <td>УБ — Баянзүрх, Сансар</td>\n",
       "      <td>Баянзүрх</td>\n",
       "      <td>300.00</td>\n",
       "      <td>93.21</td>\n",
       "      <td>3.218539</td>\n",
       "    </tr>\n",
       "    <tr>\n",
       "      <th>1</th>\n",
       "      <td>Khans vill хотхонд 3 өрөө байр</td>\n",
       "      <td>302.78 сая ₮</td>\n",
       "      <td>9/11/2023</td>\n",
       "      <td>18:13</td>\n",
       "      <td>7606352</td>\n",
       "      <td>8906-7787</td>\n",
       "      <td>3 өрөө</td>\n",
       "      <td>\\nKhans vill 3 өрөө орон сууц худалдана.\\n\\n91...</td>\n",
       "      <td>https://www.unegui.mn/adv/7606352_khans-vill-k...</td>\n",
       "      <td>Паркет</td>\n",
       "      <td>...</td>\n",
       "      <td>Ашиглалтад орсон</td>\n",
       "      <td>NaN</td>\n",
       "      <td>NaN</td>\n",
       "      <td>NaN</td>\n",
       "      <td>NaN</td>\n",
       "      <td>УБ — Хан-Уул, Хансвилл хотхон</td>\n",
       "      <td>Хан-Уул</td>\n",
       "      <td>302.78</td>\n",
       "      <td>91.00</td>\n",
       "      <td>3.327253</td>\n",
       "    </tr>\n",
       "    <tr>\n",
       "      <th>2</th>\n",
       "      <td>Худ, 18-р хороо удирдлагын академийн урд богды...</td>\n",
       "      <td>303.66 сая ₮</td>\n",
       "      <td>9/12/2023</td>\n",
       "      <td>11:47</td>\n",
       "      <td>7632026</td>\n",
       "      <td>8600-5021</td>\n",
       "      <td>3 өрөө</td>\n",
       "      <td>\\nХУД, Удирдлагын академийн урд Богдын өндөр х...</td>\n",
       "      <td>https://www.unegui.mn/adv/7632026_khud-18-r-kh...</td>\n",
       "      <td>Паркет</td>\n",
       "      <td>...</td>\n",
       "      <td>Ашиглалтад орсон</td>\n",
       "      <td>NaN</td>\n",
       "      <td>NaN</td>\n",
       "      <td>NaN</td>\n",
       "      <td>NaN</td>\n",
       "      <td>УБ — Хан-Уул, 120 мянгат</td>\n",
       "      <td>Хан-Уул</td>\n",
       "      <td>303.66</td>\n",
       "      <td>109.00</td>\n",
       "      <td>2.785872</td>\n",
       "    </tr>\n",
       "    <tr>\n",
       "      <th>3</th>\n",
       "      <td>Богдын өндөр хотхонд 3 өрөө 108м2 орон сууц</td>\n",
       "      <td>303.66 сая ₮</td>\n",
       "      <td>9/12/2023</td>\n",
       "      <td>11:57</td>\n",
       "      <td>7632083</td>\n",
       "      <td>9999-7941</td>\n",
       "      <td>3 өрөө</td>\n",
       "      <td>\\n📍ХУД, Удирдлагын академийн урд Богдын өндөр ...</td>\n",
       "      <td>https://www.unegui.mn/adv/7632083_bogdyn-ondor...</td>\n",
       "      <td>Паркет</td>\n",
       "      <td>...</td>\n",
       "      <td>Ашиглалтад орсон</td>\n",
       "      <td>NaN</td>\n",
       "      <td>NaN</td>\n",
       "      <td>NaN</td>\n",
       "      <td>NaN</td>\n",
       "      <td>УБ — Хан-Уул, Хан-Уул, Хороо 15</td>\n",
       "      <td>Хан-Уул</td>\n",
       "      <td>303.66</td>\n",
       "      <td>108.00</td>\n",
       "      <td>2.811667</td>\n",
       "    </tr>\n",
       "    <tr>\n",
       "      <th>4</th>\n",
       "      <td>Бзд 26 хороо кристал таунд 80мкв 3 өрөө</td>\n",
       "      <td>307 сая ₮\\nүнэ тохирно</td>\n",
       "      <td>8/16/2023</td>\n",
       "      <td>10:29</td>\n",
       "      <td>7515443</td>\n",
       "      <td>9009-8850</td>\n",
       "      <td>3 өрөө</td>\n",
       "      <td>\\nурагшаа харсан 3 цонхтой маш цэвэрхэн 3 өрөө...</td>\n",
       "      <td>https://www.unegui.mn/adv/7515443_bzd-26-khoro...</td>\n",
       "      <td>Паркет</td>\n",
       "      <td>...</td>\n",
       "      <td>Ашиглалтад орсон</td>\n",
       "      <td>NaN</td>\n",
       "      <td>NaN</td>\n",
       "      <td>NaN</td>\n",
       "      <td>NaN</td>\n",
       "      <td>УБ — Баянзүрх, Баянзүрх, Хороо 26</td>\n",
       "      <td>Баянзүрх</td>\n",
       "      <td>307.00</td>\n",
       "      <td>80.00</td>\n",
       "      <td>3.837500</td>\n",
       "    </tr>\n",
       "  </tbody>\n",
       "</table>\n",
       "<p>5 rows × 30 columns</p>\n",
       "</div>"
      ],
      "text/plain": [
       "                                               Title                   Price  \\\n",
       "0  Бзд 1-р хороо сансар, и-мартын хойно 4 өрөө ор...  300 сая ₮\\nүнэ тохирно   \n",
       "1                     Khans vill хотхонд 3 өрөө байр            302.78 сая ₮   \n",
       "2  Худ, 18-р хороо удирдлагын академийн урд богды...            303.66 сая ₮   \n",
       "3        Богдын өндөр хотхонд 3 өрөө 108м2 орон сууц            303.66 сая ₮   \n",
       "4            Бзд 26 хороо кристал таунд 80мкв 3 өрөө  307 сая ₮\\nүнэ тохирно   \n",
       "\n",
       "        Date   Time       id      phone    room  \\\n",
       "0  8/30/2023  18:42  7589853  8877-9095  4 өрөө   \n",
       "1  9/11/2023  18:13  7606352  8906-7787  3 өрөө   \n",
       "2  9/12/2023  11:47  7632026  8600-5021  3 өрөө   \n",
       "3  9/12/2023  11:57  7632083  9999-7941  3 өрөө   \n",
       "4  8/16/2023  10:29  7515443  9009-8850  3 өрөө   \n",
       "\n",
       "                                             message  \\\n",
       "0  \\nБЗД 1-р хороо Сансар, И-мартын ард 4 өрөө ор...   \n",
       "1  \\nKhans vill 3 өрөө орон сууц худалдана.\\n\\n91...   \n",
       "2  \\nХУД, Удирдлагын академийн урд Богдын өндөр х...   \n",
       "3  \\n📍ХУД, Удирдлагын академийн урд Богдын өндөр ...   \n",
       "4  \\nурагшаа харсан 3 цонхтой маш цэвэрхэн 3 өрөө...   \n",
       "\n",
       "                                                 url    Шал:  ...  \\\n",
       "0  https://www.unegui.mn/adv/7589853_bzd-1-r-khor...  Паркет  ...   \n",
       "1  https://www.unegui.mn/adv/7606352_khans-vill-k...  Паркет  ...   \n",
       "2  https://www.unegui.mn/adv/7632026_khud-18-r-kh...  Паркет  ...   \n",
       "3  https://www.unegui.mn/adv/7632083_bogdyn-ondor...  Паркет  ...   \n",
       "4  https://www.unegui.mn/adv/7515443_bzd-26-khoro...  Паркет  ...   \n",
       "\n",
       "      Барилгын явц:  Код: Байршил: location:  Unnamed: 0  \\\n",
       "0  Ашиглалтад орсон   NaN      NaN       NaN         NaN   \n",
       "1  Ашиглалтад орсон   NaN      NaN       NaN         NaN   \n",
       "2  Ашиглалтад орсон   NaN      NaN       NaN         NaN   \n",
       "3  Ашиглалтад орсон   NaN      NaN       NaN         NaN   \n",
       "4  Ашиглалтад орсон   NaN      NaN       NaN         NaN   \n",
       "\n",
       "                                 loc    Дүүрэг  Нийт үнэ      М2    М2 үнэ  \n",
       "0              УБ — Баянзүрх, Сансар  Баянзүрх    300.00   93.21  3.218539  \n",
       "1      УБ — Хан-Уул, Хансвилл хотхон   Хан-Уул    302.78   91.00  3.327253  \n",
       "2           УБ — Хан-Уул, 120 мянгат   Хан-Уул    303.66  109.00  2.785872  \n",
       "3    УБ — Хан-Уул, Хан-Уул, Хороо 15   Хан-Уул    303.66  108.00  2.811667  \n",
       "4  УБ — Баянзүрх, Баянзүрх, Хороо 26  Баянзүрх    307.00   80.00  3.837500  \n",
       "\n",
       "[5 rows x 30 columns]"
      ]
     },
     "execution_count": 84,
     "metadata": {},
     "output_type": "execute_result"
    }
   ],
   "source": [
    "df.head()"
   ]
  },
  {
   "cell_type": "code",
   "execution_count": 88,
   "id": "2f3b19b7",
   "metadata": {},
   "outputs": [
    {
     "data": {
      "text/plain": [
       "Дүүрэг\n",
       "Баянгол                                  NaN\n",
       "Баянзүрх                                 NaN\n",
       "Баянхонгор, Баянхонгор              0.055172\n",
       "Дархан-Уул                          0.619001\n",
       "Дархан-Уул, Дархан-Уул              2.094577\n",
       "Дорноговь, Дорноговь                0.842404\n",
       "Дорнод, Дорнод                      1.887939\n",
       "Налайх                              2.976677\n",
       "Орхон                               2.772972\n",
       "Орхон, Орхон                        2.262211\n",
       "Сонгинохайрхан                           NaN\n",
       "Сэлэнгэ                             1.260089\n",
       "Сэлэнгэ, Сэлэнгэ                    2.340824\n",
       "Сүхбаатар                                NaN\n",
       "Төв                                 1.241392\n",
       "Төв, Төв                            1.910729\n",
       "УБ — Багануур, Багануур, Хороо 2    1.741729\n",
       "УБ — Багануур, Багануур, Хороо 3    0.023881\n",
       "Хан-Уул                             2.938124\n",
       "Хөвсгөл, Хөвсгөл                    1.607143\n",
       "Чингэлтэй                           3.352248\n",
       "Өмнөговь, Өмнөговь                  2.830189\n",
       "Name: М2 үнэ, dtype: float64"
      ]
     },
     "execution_count": 88,
     "metadata": {},
     "output_type": "execute_result"
    }
   ],
   "source": [
    "df.groupby('Дүүрэг')['М2 үнэ'].mean()"
   ]
  },
  {
   "cell_type": "code",
   "execution_count": 94,
   "id": "f59916fd",
   "metadata": {},
   "outputs": [
    {
     "data": {
      "text/plain": [
       "inf"
      ]
     },
     "execution_count": 94,
     "metadata": {},
     "output_type": "execute_result"
    }
   ],
   "source": [
    "df[df['Дүүрэг'] == 'Сүхбаатар']['М2 үнэ']"
   ]
  }
 ],
 "metadata": {
  "kernelspec": {
   "display_name": "Python 3 (ipykernel)",
   "language": "python",
   "name": "python3"
  },
  "language_info": {
   "codemirror_mode": {
    "name": "ipython",
    "version": 3
   },
   "file_extension": ".py",
   "mimetype": "text/x-python",
   "name": "python",
   "nbconvert_exporter": "python",
   "pygments_lexer": "ipython3",
   "version": "3.9.13"
  }
 },
 "nbformat": 4,
 "nbformat_minor": 5
}
